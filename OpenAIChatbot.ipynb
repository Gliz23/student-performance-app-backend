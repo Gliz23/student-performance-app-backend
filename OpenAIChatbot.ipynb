{
 "cells": [
  {
   "cell_type": "code",
   "execution_count": 108,
   "id": "545b41d7",
   "metadata": {},
   "outputs": [],
   "source": [
    "from langchain.document_loaders import PyPDFLoader, DirectoryLoader\n",
    "from langchain.text_splitter import RecursiveCharacterTextSplitter"
   ]
  },
  {
   "cell_type": "code",
   "execution_count": 109,
   "id": "c1247f92",
   "metadata": {},
   "outputs": [],
   "source": [
    "#Extract Data From the PDF File\n",
    "\n",
    "def load_pdf_file(data):\n",
    "    loader= DirectoryLoader(data,\n",
    "                                glob=\"*.pdf\",\n",
    "                                loader_cls=PyPDFLoader)\n",
    "    \n",
    "    documents=loader.load()\n",
    "\n",
    "    return documents\n",
    "\n"
   ]
  },
  {
   "cell_type": "code",
   "execution_count": 110,
   "id": "b4ccae36",
   "metadata": {},
   "outputs": [],
   "source": [
    "extracted_data=load_pdf_file(data='Data/')"
   ]
  },
  {
   "cell_type": "code",
   "execution_count": 111,
   "id": "cfd2e188",
   "metadata": {},
   "outputs": [],
   "source": [
    "# extracted_data"
   ]
  },
  {
   "cell_type": "code",
   "execution_count": 112,
   "id": "f04a0761",
   "metadata": {},
   "outputs": [],
   "source": [
    "#Split the data into text chunks\n",
    "\n",
    "def text_split(extracted_data):\n",
    "    text_splitter=RecursiveCharacterTextSplitter(chunk_size=500, chunk_overlap=20)\n",
    "    text_chunks=text_splitter.split_documents(extracted_data)\n",
    "    return text_chunks"
   ]
  },
  {
   "cell_type": "code",
   "execution_count": 113,
   "metadata": {},
   "outputs": [
    {
     "name": "stdout",
     "output_type": "stream",
     "text": [
      "Length of Text Chunks 273\n"
     ]
    }
   ],
   "source": [
    "text_chunks=text_split(extracted_data)\n",
    "print(\"Length of Text Chunks\", len(text_chunks))"
   ]
  },
  {
   "cell_type": "code",
   "execution_count": 114,
   "id": "b7a1de82",
   "metadata": {},
   "outputs": [],
   "source": [
    "#text_chunks"
   ]
  },
  {
   "cell_type": "code",
   "execution_count": 115,
   "id": "6dc0b142",
   "metadata": {},
   "outputs": [],
   "source": [
    "from langchain.embeddings import HuggingFaceEmbeddings"
   ]
  },
  {
   "cell_type": "code",
   "execution_count": 116,
   "id": "9b25f5e7",
   "metadata": {},
   "outputs": [
    {
     "name": "stdout",
     "output_type": "stream",
     "text": [
      "Requirement already satisfied: sentence-transformers in c:\\users\\lenovo\\student-performance-app\\venv\\lib\\site-packages (4.1.0)\n",
      "Requirement already satisfied: transformers<5.0.0,>=4.41.0 in c:\\users\\lenovo\\student-performance-app\\venv\\lib\\site-packages (from sentence-transformers) (4.52.4)\n",
      "Requirement already satisfied: tqdm in c:\\users\\lenovo\\student-performance-app\\venv\\lib\\site-packages (from sentence-transformers) (4.67.1)\n",
      "Requirement already satisfied: torch>=1.11.0 in c:\\users\\lenovo\\student-performance-app\\venv\\lib\\site-packages (from sentence-transformers) (2.7.1)\n",
      "Requirement already satisfied: scikit-learn in c:\\users\\lenovo\\student-performance-app\\venv\\lib\\site-packages (from sentence-transformers) (1.6.1)\n",
      "Requirement already satisfied: scipy in c:\\users\\lenovo\\student-performance-app\\venv\\lib\\site-packages (from sentence-transformers) (1.15.2)\n",
      "Requirement already satisfied: huggingface-hub>=0.20.0 in c:\\users\\lenovo\\student-performance-app\\venv\\lib\\site-packages (from sentence-transformers) (0.32.4)\n",
      "Requirement already satisfied: Pillow in c:\\users\\lenovo\\student-performance-app\\venv\\lib\\site-packages (from sentence-transformers) (11.2.1)\n",
      "Requirement already satisfied: typing_extensions>=4.5.0 in c:\\users\\lenovo\\student-performance-app\\venv\\lib\\site-packages (from sentence-transformers) (4.13.0)\n",
      "Requirement already satisfied: filelock in c:\\users\\lenovo\\student-performance-app\\venv\\lib\\site-packages (from transformers<5.0.0,>=4.41.0->sentence-transformers) (3.18.0)\n",
      "Requirement already satisfied: numpy>=1.17 in c:\\users\\lenovo\\student-performance-app\\venv\\lib\\site-packages (from transformers<5.0.0,>=4.41.0->sentence-transformers) (2.2.4)\n",
      "Requirement already satisfied: packaging>=20.0 in c:\\users\\lenovo\\student-performance-app\\venv\\lib\\site-packages (from transformers<5.0.0,>=4.41.0->sentence-transformers) (24.2)\n",
      "Requirement already satisfied: pyyaml>=5.1 in c:\\users\\lenovo\\student-performance-app\\venv\\lib\\site-packages (from transformers<5.0.0,>=4.41.0->sentence-transformers) (6.0.2)\n",
      "Requirement already satisfied: regex!=2019.12.17 in c:\\users\\lenovo\\student-performance-app\\venv\\lib\\site-packages (from transformers<5.0.0,>=4.41.0->sentence-transformers) (2024.11.6)\n",
      "Requirement already satisfied: requests in c:\\users\\lenovo\\student-performance-app\\venv\\lib\\site-packages (from transformers<5.0.0,>=4.41.0->sentence-transformers) (2.32.3)\n",
      "Requirement already satisfied: tokenizers<0.22,>=0.21 in c:\\users\\lenovo\\student-performance-app\\venv\\lib\\site-packages (from transformers<5.0.0,>=4.41.0->sentence-transformers) (0.21.1)\n",
      "Requirement already satisfied: safetensors>=0.4.3 in c:\\users\\lenovo\\student-performance-app\\venv\\lib\\site-packages (from transformers<5.0.0,>=4.41.0->sentence-transformers) (0.5.3)\n",
      "Requirement already satisfied: fsspec>=2023.5.0 in c:\\users\\lenovo\\student-performance-app\\venv\\lib\\site-packages (from huggingface-hub>=0.20.0->sentence-transformers) (2025.5.1)\n",
      "Requirement already satisfied: sympy>=1.13.3 in c:\\users\\lenovo\\student-performance-app\\venv\\lib\\site-packages (from torch>=1.11.0->sentence-transformers) (1.14.0)\n",
      "Requirement already satisfied: networkx in c:\\users\\lenovo\\student-performance-app\\venv\\lib\\site-packages (from torch>=1.11.0->sentence-transformers) (3.5)\n",
      "Requirement already satisfied: jinja2 in c:\\users\\lenovo\\student-performance-app\\venv\\lib\\site-packages (from torch>=1.11.0->sentence-transformers) (3.1.6)\n",
      "Requirement already satisfied: setuptools in c:\\users\\lenovo\\student-performance-app\\venv\\lib\\site-packages (from torch>=1.11.0->sentence-transformers) (80.9.0)\n",
      "Requirement already satisfied: mpmath<1.4,>=1.1.0 in c:\\users\\lenovo\\student-performance-app\\venv\\lib\\site-packages (from sympy>=1.13.3->torch>=1.11.0->sentence-transformers) (1.3.0)\n",
      "Requirement already satisfied: colorama in c:\\users\\lenovo\\student-performance-app\\venv\\lib\\site-packages (from tqdm->sentence-transformers) (0.4.6)\n",
      "Requirement already satisfied: MarkupSafe>=2.0 in c:\\users\\lenovo\\student-performance-app\\venv\\lib\\site-packages (from jinja2->torch>=1.11.0->sentence-transformers) (3.0.2)\n",
      "Requirement already satisfied: charset-normalizer<4,>=2 in c:\\users\\lenovo\\student-performance-app\\venv\\lib\\site-packages (from requests->transformers<5.0.0,>=4.41.0->sentence-transformers) (3.4.1)\n",
      "Requirement already satisfied: idna<4,>=2.5 in c:\\users\\lenovo\\student-performance-app\\venv\\lib\\site-packages (from requests->transformers<5.0.0,>=4.41.0->sentence-transformers) (3.10)\n",
      "Requirement already satisfied: urllib3<3,>=1.21.1 in c:\\users\\lenovo\\student-performance-app\\venv\\lib\\site-packages (from requests->transformers<5.0.0,>=4.41.0->sentence-transformers) (2.3.0)\n",
      "Requirement already satisfied: certifi>=2017.4.17 in c:\\users\\lenovo\\student-performance-app\\venv\\lib\\site-packages (from requests->transformers<5.0.0,>=4.41.0->sentence-transformers) (2025.1.31)\n",
      "Requirement already satisfied: joblib>=1.2.0 in c:\\users\\lenovo\\student-performance-app\\venv\\lib\\site-packages (from scikit-learn->sentence-transformers) (1.4.2)\n",
      "Requirement already satisfied: threadpoolctl>=3.1.0 in c:\\users\\lenovo\\student-performance-app\\venv\\lib\\site-packages (from scikit-learn->sentence-transformers) (3.6.0)\n",
      "Note: you may need to restart the kernel to use updated packages.\n"
     ]
    }
   ],
   "source": [
    "%pip install -U sentence-transformers"
   ]
  },
  {
   "cell_type": "code",
   "execution_count": 117,
   "id": "95f9fd7b",
   "metadata": {},
   "outputs": [],
   "source": [
    "# Download the Embeddings from Hugging Face\n",
    "\n",
    "def download_hugging_face_embeddings():\n",
    "    embeddings=HuggingFaceEmbeddings(model_name='sentence-transformers/all-MiniLM-L6-v2')\n",
    "    return embeddings"
   ]
  },
  {
   "cell_type": "code",
   "execution_count": 118,
   "id": "4d6c64ce",
   "metadata": {},
   "outputs": [],
   "source": [
    "embeddings = download_hugging_face_embeddings()"
   ]
  },
  {
   "cell_type": "code",
   "execution_count": 119,
   "id": "8c6a4a3a",
   "metadata": {},
   "outputs": [
    {
     "name": "stdout",
     "output_type": "stream",
     "text": [
      "Length 384\n"
     ]
    }
   ],
   "source": [
    "query_result = embeddings.embed_query(\"Hello World\")\n",
    "print(\"Length\", len(query_result))"
   ]
  },
  {
   "cell_type": "code",
   "execution_count": 120,
   "id": "60c493e3",
   "metadata": {},
   "outputs": [],
   "source": [
    "#query_result"
   ]
  },
  {
   "cell_type": "code",
   "execution_count": 121,
   "id": "0cd647de",
   "metadata": {},
   "outputs": [
    {
     "data": {
      "text/plain": [
       "True"
      ]
     },
     "execution_count": 121,
     "metadata": {},
     "output_type": "execute_result"
    }
   ],
   "source": [
    "from dotenv import load_dotenv\n",
    "load_dotenv()"
   ]
  },
  {
   "cell_type": "code",
   "execution_count": 122,
   "id": "7c09acc1",
   "metadata": {},
   "outputs": [
    {
     "name": "stdout",
     "output_type": "stream",
     "text": [
      "Requirement already satisfied: python-dotenv in c:\\users\\lenovo\\student-performance-app\\venv\\lib\\site-packages (1.1.0)\n",
      "Note: you may need to restart the kernel to use updated packages.\n"
     ]
    }
   ],
   "source": [
    "%pip install python-dotenv\n",
    "\n",
    "from dotenv import load_dotenv\n",
    "import os\n",
    "\n",
    "load_dotenv()  # This reads the .env file\n",
    "\n",
    "PINECONE_API_KEY = os.environ.get('PINECONE_API_KEY')\n",
    "OPENAI_API_KEY = os.environ.get('OPENAI_API_KEY')\n",
    "\n",
    "if not PINECONE_API_KEY:\n",
    "    raise ValueError(\"PINECONE_API_KEY not found. Is your .env file loaded?\")\n",
    "if not OPENAI_API_KEY:\n",
    "    raise ValueError(\"OPENAI_API_KEY not found. Is your .env file loaded?\")\n"
   ]
  },
  {
   "cell_type": "code",
   "execution_count": 123,
   "id": "0f1d6047",
   "metadata": {},
   "outputs": [],
   "source": [
    "os.environ[\"PINECONE_API_KEY\"] = PINECONE_API_KEY\n",
    "os.environ[\"OPENAI_API_KEY\"] = OPENAI_API_KEY\n"
   ]
  },
  {
   "cell_type": "code",
   "execution_count": null,
   "id": "915ae6d0",
   "metadata": {},
   "outputs": [],
   "source": [
    "from pinecone import Pinecone, ServerlessSpec\n",
    "\n",
    "pc = Pinecone(api_key= PINECONE_API_KEY)\n",
    "\n",
    "index = pc.Index('students-score-padi')"
   ]
  },
  {
   "cell_type": "code",
   "execution_count": 125,
   "id": "43c9e84b",
   "metadata": {},
   "outputs": [],
   "source": [
    "from langchain_pinecone import PineconeVectorStore\n",
    "\n",
    "docsearch = PineconeVectorStore.from_documents(\n",
    "    documents=text_chunks,\n",
    "    index_name=\"students-score-padi\",\n",
    "    embedding=embeddings,\n",
    ")"
   ]
  },
  {
   "cell_type": "code",
   "execution_count": 126,
   "id": "f9490435",
   "metadata": {},
   "outputs": [],
   "source": [
    "retriever = docsearch.as_retriever(search_type=\"similarity\", search_kwargs={\"k\":3})"
   ]
  },
  {
   "cell_type": "code",
   "execution_count": 127,
   "id": "2f95f2ff",
   "metadata": {},
   "outputs": [
    {
     "data": {
      "text/plain": [
       "[Document(id='4dee3307-ab01-4bdf-bd74-e337677a1828', metadata={'author': 'Sarah Simpson', 'creationdate': '2015-10-12T00:00:00+00:00', 'creator': 'Bookboon.com Ltd.', 'moddate': '2019-07-10T16:45:50+00:00', 'page': 8.0, 'page_label': '9', 'producer': 'Adobe PDF Library 15.0; modified by SetaPDF-FormFiller Component v2.31.0.1330 ©Setasign 2005-2019 (www.setasign.com)', 'source': 'Data\\\\essential-study-skills.pdf', 'title': 'Essential Study Skills', 'total_pages': 86.0, 'trapped': '/False'}, page_content='Essential Study Skills\\n9  \\nIntroduction\\n1 Introduction\\nWe can describe study skills as “learning how to become a more effective learner”. They enable you to \\nstudy and learn more efficiently, however, they do have to be practised and developed.\\nDuring your lifetime of learning and study you will have to; learn, interpret, condense and recall huge \\namounts of information. Clearly the specific skill, tool or technique you will use will be determined by;'),\n",
       " Document(id='4d3c840a-9335-412e-befd-34582182ba15', metadata={'author': 'Sarah Simpson', 'creationdate': '2015-10-12T00:00:00+00:00', 'creator': 'Bookboon.com Ltd.', 'moddate': '2019-07-10T16:45:50+00:00', 'page': 64.0, 'page_label': '65', 'producer': 'Adobe PDF Library 15.0; modified by SetaPDF-FormFiller Component v2.31.0.1330 ©Setasign 2005-2019 (www.setasign.com)', 'source': 'Data\\\\essential-study-skills.pdf', 'title': 'Essential Study Skills', 'total_pages': 86.0, 'trapped': '/False'}, page_content='Essential Study Skills\\n65  \\nA General Study Strategy\\n14 A General Study Strategy\\nThroughout this book we have looked at a wide variety of study skills. In this section we will conclude \\nwith a general strategy / approach for any kind of study, which is easy to remember and execute. This \\nis the ASPIRE Strategy.\\n14.1 ASPIRE Study Strategy method\\nA: Approach / attitude / arrange\\n• Approach your study with a positive attitude'),\n",
       " Document(id='7a41f957-d4dd-43f1-8b7b-9578966092db', metadata={'author': 'Sarah Simpson', 'creationdate': '2015-10-12T00:00:00+00:00', 'creator': 'Bookboon.com Ltd.', 'moddate': '2019-07-10T16:45:50+00:00', 'page': 76.0, 'page_label': '77', 'producer': 'Adobe PDF Library 15.0; modified by SetaPDF-FormFiller Component v2.31.0.1330 ©Setasign 2005-2019 (www.setasign.com)', 'source': 'Data\\\\essential-study-skills.pdf', 'title': 'Essential Study Skills', 'total_pages': 86.0, 'trapped': '/False'}, page_content='Essential Study Skills\\n77  \\nSummary\\n18 Summary\\nWe started this book by looking at the 5 main reasons that people study as well as their preferred method. \\nThe bulk of what followed was a description and examples where appropriate of methods, techniques \\nand practices you can use to study effectively and efficiently.\\nI’m sure it is more than obvious to you by now that the method you use should be tailored to you, your')]"
      ]
     },
     "execution_count": 127,
     "metadata": {},
     "output_type": "execute_result"
    }
   ],
   "source": [
    "retriever_docs = retriever.invoke(\"What is studying?\")\n",
    "retriever_docs"
   ]
  },
  {
   "cell_type": "code",
   "execution_count": 128,
   "id": "540da679",
   "metadata": {},
   "outputs": [],
   "source": [
    "from langchain_openai import OpenAI\n",
    "llm = OpenAI(temperature=0.4, max_tokens=500)"
   ]
  },
  {
   "cell_type": "code",
   "execution_count": 129,
   "id": "93245a4e",
   "metadata": {},
   "outputs": [],
   "source": [
    "from langchain.chains import create_retrieval_chain\n",
    "from langchain.chains.combine_documents import create_stuff_documents_chain\n",
    "from langchain_core.prompts import ChatPromptTemplate\n",
    "\n",
    "system_prompt = (\"\"\"\n",
    "    You are an expert academic coach and learning strategist. Your task is to generate a personalized study guide for a student based on the topic they are studying. Your response should:\n",
    "\n",
    "Use the following context to support your explanations:\n",
    "{context}\n",
    "\n",
    "1. Break down the topic into 3 to 5 clear sections or subtopics.\n",
    "2. For each subtopic, explain it simply but deeply, as if teaching a beginner.\n",
    "3. Include study advice for how to master that section (e.g., use flashcards, teach it to someone, spaced repetition).\n",
    "4. Ask at least 2 **active recall questions** per subtopic to test the student’s understanding.\n",
    "5. End the guide with a motivational note and a recap of the best study strategy for that topic.\n",
    "\n",
    "Make the tone friendly, supportive, and focused on helping the student become exceptional in their understanding.\n",
    "\n",
    "Topic: {topic}\n",
    "Tailor the guide based on the student’s motivation level ({motivation_level}) and time available ({study_hours_per_week} hours/week). Give study strategies that fit their style ({preferred_learning_style}).\n",
    "\n",
    "        \"\"\")\n",
    "\n",
    "prompt = ChatPromptTemplate.from_messages(\n",
    "    [\n",
    "        (\"system\", system_prompt),\n",
    "        (\"human\",\"{input}\"),\n",
    "    ]\n",
    ")\n"
   ]
  },
  {
   "cell_type": "code",
   "execution_count": 130,
   "id": "08efb1e8",
   "metadata": {},
   "outputs": [],
   "source": [
    "question_answer_chain = create_stuff_documents_chain(llm, prompt)\n",
    "rag_chain = create_retrieval_chain(retriever, question_answer_chain)"
   ]
  },
  {
   "cell_type": "code",
   "execution_count": 131,
   "id": "858a2460",
   "metadata": {},
   "outputs": [],
   "source": [
    "response = rag_chain.invoke({\n",
    "    \"input\": \"Can you create my personalized study guide?\",\n",
    "    \"topic\": \"Calculus\",\n",
    "    \"motivation_level\": \"Medium\",\n",
    "    \"study_hours_per_week\": \"5\",\n",
    "    \"preferred_learning_style\": \"Visual\"\n",
    "})\n"
   ]
  },
  {
   "cell_type": "code",
   "execution_count": 1,
   "id": "8e36c6b2",
   "metadata": {},
   "outputs": [
    {
     "ename": "NameError",
     "evalue": "name 'response' is not defined",
     "output_type": "error",
     "traceback": [
      "\u001b[31m---------------------------------------------------------------------------\u001b[39m",
      "\u001b[31mNameError\u001b[39m                                 Traceback (most recent call last)",
      "\u001b[36mCell\u001b[39m\u001b[36m \u001b[39m\u001b[32mIn[1]\u001b[39m\u001b[32m, line 1\u001b[39m\n\u001b[32m----> \u001b[39m\u001b[32m1\u001b[39m \u001b[38;5;28mprint\u001b[39m(\u001b[43mresponse\u001b[49m)\n",
      "\u001b[31mNameError\u001b[39m: name 'response' is not defined"
     ]
    }
   ],
   "source": [
    "print(response)"
   ]
  },
  {
   "cell_type": "code",
   "execution_count": 132,
   "id": "74ad4ecd",
   "metadata": {},
   "outputs": [
    {
     "name": "stdout",
     "output_type": "stream",
     "text": [
      "\n",
      "\n",
      "System: Of course! Let's get started on creating a personalized study guide for you on the topic of Calculus. Based on your motivation level (Medium) and time available (5 hours/week), I will tailor the guide to fit your needs. Since you prefer a visual learning style, I will include study strategies that will work best for you. \n",
      "\n",
      "Section 1: Introduction to Calculus\n",
      "- In this section, you will learn the basic concepts and principles of Calculus, including limits, derivatives, and integrals.\n",
      "- Study advice: Use flashcards to memorize key formulas and concepts. Teach the material to someone else to solidify your understanding.\n",
      "- Active recall questions:\n",
      "1. What is the definition of a limit?\n",
      "2. How is a derivative calculated?\n",
      "\n",
      "Section 2: Differentiation\n",
      "- This section will cover the rules and techniques of differentiation, including the power rule, product rule, and chain rule.\n",
      "- Study advice: Create visual aids such as diagrams and graphs to help you understand the concepts better. Use spaced repetition to review the material regularly.\n",
      "- Active recall questions:\n",
      "1. What is the power rule and how is it used in differentiation?\n",
      "2. How do you apply the chain rule to a composite function?\n",
      "\n",
      "Section 3: Integration\n",
      "- In this section, you will learn about the fundamental theorem of calculus and various integration techniques, such as substitution and integration by parts.\n",
      "- Study advice: Use color-coding and highlighting to organize your notes and make connections between different concepts. Practice solving integration problems regularly.\n",
      "- Active recall questions:\n",
      "1. What is the fundamental theorem of calculus?\n",
      "2. How do you use substitution to solve an integration problem?\n",
      "\n",
      "Section 4: Applications of Calculus\n",
      "- This section will cover real-world applications of Calculus, such as optimization and related rates.\n",
      "- Study advice: Use real-life examples to understand how Calculus is applied in different scenarios. Practice solving application problems to improve your problem-solving skills.\n",
      "- Active recall questions:\n",
      "1. How do you use derivatives to find the maximum or minimum value of a function?\n",
      "2. What is the process for solving a related rates problem?\n",
      "\n",
      "Motivational note: Calculus may seem intimidating, but with dedication and consistent effort, you can become exceptional in your understanding of this subject. Remember to take breaks and reward yourself for your hard work. Keep pushing yourself and don't be afraid to ask for help when needed.\n",
      "\n",
      "Recap of best study strategy: Use visual aids\n"
     ]
    }
   ],
   "source": [
    "print(response[\"answer\"])"
   ]
  }
 ],
 "metadata": {
  "kernelspec": {
   "display_name": "venv",
   "language": "python",
   "name": "python3"
  },
  "language_info": {
   "codemirror_mode": {
    "name": "ipython",
    "version": 3
   },
   "file_extension": ".py",
   "mimetype": "text/x-python",
   "name": "python",
   "nbconvert_exporter": "python",
   "pygments_lexer": "ipython3",
   "version": "3.13.2"
  }
 },
 "nbformat": 4,
 "nbformat_minor": 5
}
